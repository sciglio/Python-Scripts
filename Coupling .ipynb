{
 "cells": [
  {
   "cell_type": "markdown",
   "metadata": {},
   "source": [
    "# Coupling, impedance and capacitance"
   ]
  },
  {
   "cell_type": "markdown",
   "metadata": {},
   "source": [
    "### Introduction\n",
    "This notebook condnse my understanding of coupling an atom (anharmonic oscillator) to an open or s resonator system. Also taking some consideration on how the impedance and capacitance contribuite to the coupling.\n",
    "\n",
    "How systems have an excitation frequency at few GHz, say 5GHz. If we consider the atom as a lumped element LC resonator than the we have a constrain on the capacitance $C$ and inductance $L$: \n",
    "$$f=\\frac{1}{2\\pi\\sqrt{LC}}$$\n",
    "Another constrain derive from the anharmonicity $\\alpha$ directly related to C. In first approximation we wanto to maintain $\\alpha\\approx 200$MHz. In a transmon qubit this fix the capacitance:\n",
    "$$C=\\frac{1}{2}\\frac{e^2}{h \\alpha}\\approx 100fF$$\n",
    "This will automatically fix the inductance of a qubit as:\n",
    "$$L=\\frac{1}{(2\\pi f)^2C}\\approx 10nH$$\n",
    "Finally this will fix the impedance of a qubit to:\n",
    "$$Z_Q=\\sqrt{\\frac{L}{C}}\\approx 300\\Omega$$"
   ]
  },
  {
   "cell_type": "code",
   "execution_count": 1,
   "metadata": {},
   "outputs": [
    {
     "name": "stdout",
     "output_type": "stream",
     "text": [
      "Approximate capacitance for a Qubit: 96.67673716012084 fF\n",
      "Approximate inductance for a Qubit: 9.667673716012083e-05 nH\n",
      "Approximate impedance for a Qubit: 329.25178852135855 Ohm\n"
     ]
    }
   ],
   "source": [
    "import numpy as np\n",
    "import matplotlib.pyplot as plt #plot library\n",
    "plt.rc('xtick', labelsize=20) \n",
    "plt.rc('ytick', labelsize=20)\n",
    "alpha=200e6\n",
    "e=1.6e-19\n",
    "h=6.62e-34\n",
    "C=e**2/(2*h*alpha)\n",
    "f=5e9\n",
    "L=1/((2*np.pi*f)**2*C)\n",
    "Z=np.sqrt(L/C)\n",
    "print('Approximate capacitance for a Qubit:', C/1e-15, 'fF')\n",
    "print('Approximate inductance for a Qubit:', C/1e-9, 'nH')\n",
    "print('Approximate impedance for a Qubit:', Z, 'Ohm')\n"
   ]
  },
  {
   "cell_type": "markdown",
   "metadata": {},
   "source": [
    "### Coupling calculation\n",
    "A (relative) small fraction of the capacitance in a qubit is due to the coupling capacitance with the envirorment. In particular here we calculate the coupling with a resonator and with an open waveguide.\n",
    "\n",
    "A qubit with resoance $\\omega_q$, capacitance $C_q$ and impedance $Z_q$ coupled with a capacitance $C_g$ to a wave guide with impedance $Z_w$, has an effective coupling (in angular frequency):\n",
    "$$ g = \\omega_q \\left( \\frac{C_g}{C_q+C_g} \\right)^2\\frac{Z_w}{Z_q} $$\n",
    "If the qubit is coupled to a resonator with angular resonance $\\omega_r$, total capacitance $C_r$ and impedance $Z_r$, the effective coupling is:\n",
    "$$g=\\sqrt{\\omega_q\\omega_r}\\frac{C_g}{2\\sqrt{C_q C_r}}=\\frac{1}{2}\\omega_q\\omega_rC_g\\sqrt{Z_q Z_r}$$\n",
    "Notice that the coupling is **linear** in $C_g$ for the coupling with a resonator mode, while is **quadratic** for the waveguide coupling."
   ]
  },
  {
   "cell_type": "code",
   "execution_count": 2,
   "metadata": {},
   "outputs": [],
   "source": [
    "def couplingWaveguide(omega_q, C_coupling, C_q, Z_0, Z_q):\n",
    "    return (omega_q*(C_coupling/(C_q+C_coupling))**2*Z_0/Z_q)\n",
    "                    \n",
    "def couplingResonator(omega_q, omega_r, C_coupling, Z_q, Z_r):\n",
    "    return (0.5*omega_q*omega_r*C_coupling*np.sqrt(Z_q*Z_r))"
   ]
  },
  {
   "cell_type": "code",
   "execution_count": 3,
   "metadata": {},
   "outputs": [
    {
     "data": {
      "image/png": "[encoded data removed]",
      "text/plain": [
       "<Figure size 432x288 with 1 Axes>"
      ]
     },
     "metadata": {
      "needs_background": "light"
     },
     "output_type": "display_data"
    }
   ],
   "source": [
    "omega_q=2*np.pi*4e9\n",
    "omega_r=2*np.pi*6e9\n",
    "C_g=np.linspace(1e-15, 2e-15, 100)\n",
    "C_q=54e-15\n",
    "Z_w=50\n",
    "Z_q=300\n",
    "Z_r=50\n",
    "\n",
    "plt.plot(C_g/C_q,couplingWaveguide(omega_q, C_g, C_q, Z_w, Z_q)/1e6)\n",
    "plt.plot(C_g/C_q,couplingResonator(omega_q, omega_r, C_g, Z_q, Z_r)/1e6)\n",
    "plt.xlabel(r'Fraction $\\frac{C_g}{C_q}$', fontsize=20)\n",
    "plt.ylabel('Coupling (MHz)', fontsize=20)\n",
    "plt.grid(True)"
   ]
  },
  {
   "cell_type": "code",
   "execution_count": null,
   "metadata": {},
   "outputs": [],
   "source": []
  }
 ],
 "metadata": {
  "kernelspec": {
   "display_name": "Python 3",
   "language": "python",
   "name": "python3"
  },
  "language_info": {
   "codemirror_mode": {
    "name": "ipython",
    "version": 3
   },
   "file_extension": ".py",
   "mimetype": "text/x-python",
   "name": "python",
   "nbconvert_exporter": "python",
   "pygments_lexer": "ipython3",
   "version": "3.7.0"
  }
 },
 "nbformat": 4,
 "nbformat_minor": 2
}
