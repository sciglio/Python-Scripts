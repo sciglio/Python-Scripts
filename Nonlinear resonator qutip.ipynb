{
 "cells": [
  {
   "cell_type": "markdown",
   "id": "1e4921ff",
   "metadata": {},
   "source": [
    "# Linear and Nonlinear driven resonators "
   ]
  },
  {
   "cell_type": "code",
   "execution_count": 9,
   "id": "bd683935",
   "metadata": {},
   "outputs": [],
   "source": [
    "%matplotlib inline\n",
    "import matplotlib.pyplot as plt\n",
    "import numpy as np\n",
    "from qutip import *"
   ]
  },
  {
   "cell_type": "markdown",
   "id": "9be0d454",
   "metadata": {},
   "source": [
    "### Physical and Numerical parameters "
   ]
  },
  {
   "cell_type": "code",
   "execution_count": 253,
   "id": "c5a2f4fd",
   "metadata": {},
   "outputs": [],
   "source": [
    "# System Parameters \n",
    "#-----------------------------------\n",
    "N = 50                    # Number of cavity states\n",
    "kappa_r = 2 * np.pi * 0.001            # Radiative cavity damping rate (GHz)\n",
    "kappa_nr= 2 * np.pi * 0.001\n",
    "kappa= kappa_r+kappa_nr         # Total cavity damping rate (GHz)\n",
    "Omega =20* kappa_r                    # Rabi drive     \n",
    "n_th = 0.01                   # Themal bath occupation\n",
    "delta =2* np.pi * 0.1       #driving-cavity detuning\n",
    "K=2 * np.pi * 0.005            # Self Kerr (GHz)"
   ]
  },
  {
   "cell_type": "markdown",
   "id": "71d9a16c",
   "metadata": {},
   "source": [
    "### Hamiltonian "
   ]
  },
  {
   "cell_type": "code",
   "execution_count": 244,
   "id": "b23efc8d",
   "metadata": {},
   "outputs": [],
   "source": [
    "# Operators\n",
    "#----------\n",
    "a = destroy(N)\n",
    "num_a = a.dag()*a\n",
    "\n",
    "# Hamiltonian in rotative frame \n",
    "#------------\n",
    "H = -delta*(num_a)+Omega/2*(a.dag()+a)     #Harmonic oscillator with coherent driving\n",
    "\n",
    "# Collapse operators\n",
    "#-------------------\n",
    "cc = np.sqrt(kappa*(1.0 + n_th))*a  #Radiative and stimulated (thermal) decay\n",
    "cp = np.sqrt(kappa*n_th)*a.dag()    #Thermal excitation\n",
    "c_ops = [cc,cp]"
   ]
  },
  {
   "cell_type": "markdown",
   "id": "9bf7e2bd",
   "metadata": {},
   "source": [
    "### Solutions"
   ]
  },
  {
   "cell_type": "code",
   "execution_count": 254,
   "id": "24db0eb9",
   "metadata": {},
   "outputs": [
    {
     "name": "stdout",
     "output_type": "stream",
     "text": [
      "Running time for dimension 50  Hilber space = 65.28730058670044\n"
     ]
    }
   ],
   "source": [
    "S11sweep=[]\n",
    "n_a=[]\n",
    "run_time=[]\n",
    "detuning=np.linspace(-12 , 12 , 301)*kappa\n",
    "drive= np.linspace(0.1, 25, 31) * kappa_r \n",
    "ss='direct' #,'eigen','power','iterative-gmres','iterative-bicgstab'\n",
    "S11_mat=np.zeros(( len(drive),len(detuning)))+1j*np.zeros(( len(drive),len(detuning)))\n",
    "\n",
    "i=0\n",
    "j=0\n",
    "for delta in detuning:\n",
    "    for Omega in drive:\n",
    "        #H = -delta*(num_a)+Omega/2*(a.dag()+a)\n",
    "        H = -delta*(num_a)-K/2*(a.dag()*a.dag()*a*a)+Omega/2*(a.dag()+a)\n",
    "        rho_ss, info = steadystate(H, c_ops, method=ss,use_precond=True, tol=1e-15, return_info=True)\n",
    "        n=expect(num_a, rho_ss)\n",
    "        S11= 1-2*1j*kappa_r/Omega*expect(a, rho_ss) #relation from input-output \n",
    "        #print(\"Partial solution for detuning=\", delta/(2*np.pi), \"GHz obtained in\",info['solution_time'] )\n",
    "    \n",
    "        n_a.append(n)\n",
    "        S11sweep.append(S11)\n",
    "        run_time.append(info['solution_time'])\n",
    "        S11_mat[j,i]=S11\n",
    "        j+=1\n",
    "    j=0\n",
    "    i+=1     \n",
    "    \n",
    "print('Running time for dimension', N, \" Hilber space =\", np.sum(run_time))"
   ]
  },
  {
   "cell_type": "markdown",
   "id": "7422f9e1",
   "metadata": {},
   "source": [
    "### Plots"
   ]
  },
  {
   "cell_type": "code",
   "execution_count": 255,
   "id": "1ac7e183",
   "metadata": {},
   "outputs": [
    {
     "data": {
      "image/png": "[encoded data removed]",
      "text/plain": [
       "<Figure size 720x432 with 1 Axes>"
      ]
     },
     "metadata": {
      "needs_background": "light"
     },
     "output_type": "display_data"
    }
   ],
   "source": [
    "plt.figure(figsize=(10,6))\n",
    "plt.contourf(detuning/(2 *np.pi),1e3* drive/(2 *np.pi),np.abs(S11_mat), levels=50, vmin=0.7, vmax=1.0, cmap='seismic')\n",
    "plt.xlabel(\"Drive detuning [GHz]\");\n",
    "plt.ylabel(\"Rabi drive [MHz]\");\n",
    "plt.title(\"Scattering power sweep\");"
   ]
  },
  {
   "cell_type": "markdown",
   "id": "7a7add07",
   "metadata": {},
   "source": [
    "### Cuts plots "
   ]
  },
  {
   "cell_type": "code",
   "execution_count": 252,
   "id": "c05e5d04",
   "metadata": {},
   "outputs": [
    {
     "data": {
      "image/png": "[encoded data removed]",
      "text/plain": [
       "<Figure size 432x288 with 1 Axes>"
      ]
     },
     "metadata": {
      "needs_background": "light"
     },
     "output_type": "display_data"
    }
   ],
   "source": [
    "plt.figure()\n",
    "plt.scatter(detuning/(2 *np.pi), np.abs(S11_mat)[8,:])\n",
    "plt.xlabel(\"Drive detuning [GHz]\");\n",
    "plt.ylabel(\"Reflection Abs(S11)\");\n",
    "plt.title(\"Scattering\");\n",
    "\n"
   ]
  },
  {
   "cell_type": "code",
   "execution_count": null,
   "id": "764fc6e1",
   "metadata": {},
   "outputs": [],
   "source": []
  }
 ],
 "metadata": {
  "kernelspec": {
   "display_name": "Python 3 (ipykernel)",
   "language": "python",
   "name": "python3"
  },
  "language_info": {
   "codemirror_mode": {
    "name": "ipython",
    "version": 3
   },
   "file_extension": ".py",
   "mimetype": "text/x-python",
   "name": "python",
   "nbconvert_exporter": "python",
   "pygments_lexer": "ipython3",
   "version": "3.8.8"
  },
  "varInspector": {
   "cols": {
    "lenName": 16,
    "lenType": 16,
    "lenVar": 40
   },
   "kernels_config": {
    "python": {
     "delete_cmd_postfix": "",
     "delete_cmd_prefix": "del ",
     "library": "var_list.py",
     "varRefreshCmd": "print(var_dic_list())"
    },
    "r": {
     "delete_cmd_postfix": ") ",
     "delete_cmd_prefix": "rm(",
     "library": "var_list.r",
     "varRefreshCmd": "cat(var_dic_list()) "
    }
   },
   "types_to_exclude": [
    "module",
    "function",
    "builtin_function_or_method",
    "instance",
    "_Feature"
   ],
   "window_display": false
  }
 },
 "nbformat": 4,
 "nbformat_minor": 5
}
