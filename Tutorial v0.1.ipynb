{
 "cells": [
  {
   "cell_type": "markdown",
   "metadata": {},
   "source": [
    "This tutorial is made on my attempt to learn how to use the library qutip. It is not complete, and sometimes not completely correct. Any question can be asked to marco.scigliuzzo.physics(at)gmail.com"
   ]
  },
  {
   "cell_type": "markdown",
   "metadata": {},
   "source": [
    "## Importing the important libraries"
   ]
  },
  {
   "cell_type": "code",
   "execution_count": 17,
   "metadata": {},
   "outputs": [],
   "source": [
    "import numpy as np #for number handling \n",
    "import matplotlib.pyplot as plt #for plotting\n",
    "import qutip as qt #for quantum simulations"
   ]
  },
  {
   "cell_type": "markdown",
   "metadata": {},
   "source": [
    "The software used in this tutorial is:"
   ]
  },
  {
   "cell_type": "code",
   "execution_count": 18,
   "metadata": {},
   "outputs": [
    {
     "data": {
      "text/html": [
       "<table><tr><th>Software</th><th>Version</th></tr><tr><td>QuTiP</td><td>4.5.0</td></tr><tr><td>Numpy</td><td>1.16.5</td></tr><tr><td>SciPy</td><td>1.3.1</td></tr><tr><td>matplotlib</td><td>3.1.1</td></tr><tr><td>Cython</td><td>0.29.13</td></tr><tr><td>Number of CPUs</td><td>4</td></tr><tr><td>BLAS Info</td><td>INTEL MKL</td></tr><tr><td>IPython</td><td>7.8.0</td></tr><tr><td>Python</td><td>3.7.4 (default, Aug  9 2019, 18:34:13) [MSC v.1915 64 bit (AMD64)]</td></tr><tr><td>OS</td><td>nt [win32]</td></tr><tr><td colspan='2'>Thu Apr 02 13:02:05 2020 W. Europe Summer Time</td></tr></table>"
      ],
      "text/plain": [
       "<IPython.core.display.HTML object>"
      ]
     },
     "execution_count": 18,
     "metadata": {},
     "output_type": "execute_result"
    }
   ],
   "source": [
    "from qutip.ipynbtools import version_table\n",
    "\n",
    "version_table()"
   ]
  },
  {
   "cell_type": "markdown",
   "metadata": {},
   "source": [
    "## Master equation for Jaynes-Cumming Hamiltonian and lossy atom cavity"
   ]
  },
  {
   "cell_type": "markdown",
   "metadata": {},
   "source": [
    "Let's try to solve some dynamics of a two levels atom with frequency $\\omega_a$, and loss rate $\\gamma$, coupled with $g$ to a cavity with with frequency $\\omega_c$ and total loss rate $\\kappa$. \n",
    "\n",
    "The hamiltonian in the rotating wave approximation is:\n",
    "$$H=\\frac{1}{2}\\hbar\\omega_a\\hat\\sigma_z+\\hbar\\omega_c a^\\dagger a +\\hbar g (\\sigma^+a+\\sigma^-a^\\dagger)$$\n",
    "\n",
    "The general form for the Lindblat super-operator (dissipator) is:\n",
    "$$D[O](\\rho)=O\\rho O^\\dagger-\\frac{1}{2}(O^\\dagger O\\rho +\\rho O^\\dagger O)$$\n",
    "\n",
    "So dissipator for the atom losses is:\n",
    "$$D[\\sigma^\\pm]\\rho=\\sigma^\\pm\\rho \\sigma^\\mp-\\frac{1}{2}(\\sigma^\\mp \\sigma^\\pm\\rho +\\rho \\sigma^\\mp \\sigma^\\pm)$$\n",
    "\n",
    "And the one for the cavity losses is:\n",
    "$$D[a](\\rho)=a\\rho a^\\dagger-\\frac{1}{2}(a^\\dagger a\\rho +\\rho a^\\dagger a)$$\n",
    "\n",
    "If the the temperature is not zero and the cavity has a population $n_{th}$, would like to solve the master equation:\n",
    "$$\\dot\\rho=-\\frac{i}{\\hbar}[H,\\rho]+\\gamma D[\\sigma^+]\\rho+(1+n_{th})\\kappa D[a]\\rho+n_{th}\\kappa D[a^\\dagger]\\rho$$\n",
    "with some initial state for the cavity and atom."
   ]
  },
  {
   "cell_type": "markdown",
   "metadata": {},
   "source": [
    "### Define the physical variables"
   ]
  },
  {
   "cell_type": "code",
   "execution_count": 70,
   "metadata": {},
   "outputs": [],
   "source": [
    "#Physical constant\n",
    "h=6.62*1e-34 #Plank's constant\n",
    "T=3.0e-2 #Cryostat's temperature\n",
    "kB=1.38e-23 #Boltzmann constanst\n",
    "\n",
    "#atom and cavity variables\n",
    "omega_a=2*np.pi*4e9 #atom frequency \n",
    "omega_c=2*np.pi*6e9 #cavity bare frequency\n",
    "gamma=2*np.pi*0.1e6 #atom non radiative decay\n",
    "kappa=2*np.pi*0.5e6 #cavity radiative decay\n",
    "g=2*np.pi*50e6 #atom-cavity coupling\n",
    "\n",
    "#derived variables\n",
    "n_th=1/(np.exp(h*omega_c/(2*np.pi*kB*T))-1)"
   ]
  },
  {
   "cell_type": "markdown",
   "metadata": {},
   "source": [
    "### Define computational variables"
   ]
  },
  {
   "cell_type": "code",
   "execution_count": 37,
   "metadata": {},
   "outputs": [],
   "source": [
    "Nc_fock=10 #number of cavity fock states\n",
    "Na_fock=2 #number of atom states"
   ]
  },
  {
   "cell_type": "markdown",
   "metadata": {},
   "source": [
    "### Define Hilbert space "
   ]
  },
  {
   "cell_type": "code",
   "execution_count": 78,
   "metadata": {},
   "outputs": [],
   "source": [
    "qa=qt.fock(Na_fock, 1) #define a 2 dimensional fock state with the first occupied (levels start from 0)\n",
    "qc=qt.fock(Nc_fock,0) #define a 10 states vector for the cavity representation\n",
    "\n",
    "psi0= qt.tensor(qa,qc) #tensor product for total Hilbert space"
   ]
  },
  {
   "cell_type": "markdown",
   "metadata": {},
   "source": [
    "### Define Operators"
   ]
  },
  {
   "cell_type": "code",
   "execution_count": 79,
   "metadata": {},
   "outputs": [],
   "source": [
    "#atom operators\n",
    "sm_a=qt.destroy(Na_fock) #sigma minus\n",
    "sp_a=sm.dag() #sigma plus (conjugate of sigma minus)\n",
    "Ia=qt.qeye(Na_fock) #2D identity \n",
    "\n",
    "#cavity operators\n",
    "a_c=qt.destroy(Nc_fock)\n",
    "Ic=qt.qeye(Nc_fock) #cavity identity \n",
    "\n",
    "#full hilbert space operators\n",
    "a  = qt.tensor(Ia, a_c)\n",
    "sm = qt.tensor(sm_a, Ic)\n",
    "\n",
    "#Hamiltonian\n",
    "H = h/(2*np.pi) *((omega_c* a.dag() * a + omega_a * sm.dag() * sm + g * (a.dag() * sm + a * sm.dag())))\n",
    "\n",
    "#Dissipator\n",
    "dissipator=[] #define an empty list that will contain all the dissipation terms\n",
    "dissipator.append(np.sqrt((1+n_th)*kappa)*a)\n",
    "dissipator.append(np.sqrt(n_th*kappa)*a.dag())\n",
    "dissipator.append(np.sqrt(gamma)*sm)"
   ]
  },
  {
   "cell_type": "markdown",
   "metadata": {},
   "source": [
    "### Equation solution"
   ]
  },
  {
   "cell_type": "code",
   "execution_count": 84,
   "metadata": {},
   "outputs": [],
   "source": [
    "times=np.linspace(0,25e-6, 100)\n",
    "\n",
    "output = qt.mesolve(H, psi0, times, dissipator, [a.dag() * a, sm.dag() * sm])"
   ]
  },
  {
   "cell_type": "markdown",
   "metadata": {},
   "source": [
    "## Results Plotting"
   ]
  },
  {
   "cell_type": "code",
   "execution_count": 85,
   "metadata": {},
   "outputs": [
    {
     "data": {
      "image/png": "[encoded data removed]",
      "text/plain": [
       "<Figure size 576x360 with 1 Axes>"
      ]
     },
     "metadata": {
      "needs_background": "light"
     },
     "output_type": "display_data"
    }
   ],
   "source": [
    "fig, ax = plt.subplots(figsize=(8,5))\n",
    "ax.plot(times, output.expect[0], label=\"Cavity\")\n",
    "ax.plot(times, output.expect[1], label=\"Atom excited state\")\n",
    "ax.legend()\n",
    "ax.set_xlabel('Time')\n",
    "ax.set_ylabel('Occupation probability')\n",
    "ax.set_title('Vacuum Rabi oscillations');"
   ]
  },
  {
   "cell_type": "markdown",
   "metadata": {},
   "source": [
    "### Additional notes"
   ]
  },
  {
   "cell_type": "markdown",
   "metadata": {},
   "source": [
    "The following commands may help during the programming:"
   ]
  },
  {
   "cell_type": "code",
   "execution_count": 73,
   "metadata": {},
   "outputs": [
    {
     "ename": "AttributeError",
     "evalue": "'list' object has no attribute 'type'",
     "output_type": "error",
     "traceback": [
      "\u001b[1;31m---------------------------------------------------------------------------\u001b[0m",
      "\u001b[1;31mAttributeError\u001b[0m                            Traceback (most recent call last)",
      "\u001b[1;32m<ipython-input-73-00e1cc4f8575>\u001b[0m in \u001b[0;36m<module>\u001b[1;34m\u001b[0m\n\u001b[1;32m----> 1\u001b[1;33m \u001b[0mdissipator\u001b[0m\u001b[1;33m.\u001b[0m\u001b[0mtype\u001b[0m \u001b[1;31m#print the type of the quantum object\u001b[0m\u001b[1;33m\u001b[0m\u001b[1;33m\u001b[0m\u001b[0m\n\u001b[0m",
      "\u001b[1;31mAttributeError\u001b[0m: 'list' object has no attribute 'type'"
     ]
    }
   ],
   "source": [
    "dissipator.type #print the type of the quantum object"
   ]
  },
  {
   "cell_type": "code",
   "execution_count": 72,
   "metadata": {},
   "outputs": [
    {
     "ename": "AttributeError",
     "evalue": "'list' object has no attribute 'full'",
     "output_type": "error",
     "traceback": [
      "\u001b[1;31m---------------------------------------------------------------------------\u001b[0m",
      "\u001b[1;31mAttributeError\u001b[0m                            Traceback (most recent call last)",
      "\u001b[1;32m<ipython-input-72-7b4484f48d9d>\u001b[0m in \u001b[0;36m<module>\u001b[1;34m\u001b[0m\n\u001b[1;32m----> 1\u001b[1;33m \u001b[0mdissipator\u001b[0m\u001b[1;33m.\u001b[0m\u001b[0mfull\u001b[0m\u001b[1;33m(\u001b[0m\u001b[1;33m)\u001b[0m \u001b[1;31m#matrix representation\u001b[0m\u001b[1;33m\u001b[0m\u001b[1;33m\u001b[0m\u001b[0m\n\u001b[0m",
      "\u001b[1;31mAttributeError\u001b[0m: 'list' object has no attribute 'full'"
     ]
    }
   ],
   "source": [
    "dissipator.full() #matrix representation\n"
   ]
  },
  {
   "cell_type": "code",
   "execution_count": 62,
   "metadata": {},
   "outputs": [
    {
     "data": {
      "text/plain": [
       "[[2, 10], [2, 10]]"
      ]
     },
     "execution_count": 62,
     "metadata": {},
     "output_type": "execute_result"
    }
   ],
   "source": [
    "a.dims"
   ]
  },
  {
   "cell_type": "code",
   "execution_count": 63,
   "metadata": {},
   "outputs": [
    {
     "data": {
      "text/plain": [
       "[[2, 10], [2, 10]]"
      ]
     },
     "execution_count": 63,
     "metadata": {},
     "output_type": "execute_result"
    }
   ],
   "source": [
    "sm.dims"
   ]
  },
  {
   "cell_type": "code",
   "execution_count": null,
   "metadata": {},
   "outputs": [],
   "source": []
  }
 ],
 "metadata": {
  "kernelspec": {
   "display_name": "Python 3",
   "language": "python",
   "name": "python3"
  },
  "language_info": {
   "codemirror_mode": {
    "name": "ipython",
    "version": 3
   },
   "file_extension": ".py",
   "mimetype": "text/x-python",
   "name": "python",
   "nbconvert_exporter": "python",
   "pygments_lexer": "ipython3",
   "version": "3.7.4"
  }
 },
 "nbformat": 4,
 "nbformat_minor": 2
}
