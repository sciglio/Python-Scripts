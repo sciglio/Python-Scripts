{
 "cells": [
  {
   "cell_type": "markdown",
   "metadata": {},
   "source": [
    "# SAW inversion of population design calculation\n",
    "A small notebook where I make few fast calculation to check the design parameters for my SAW qubits"
   ]
  },
  {
   "cell_type": "code",
   "execution_count": 1,
   "metadata": {},
   "outputs": [],
   "source": [
    "#Load the libraries\n",
    "import numpy as np #math libraty\n",
    "import matplotlib.pyplot as plt #plot library"
   ]
  },
  {
   "cell_type": "markdown",
   "metadata": {},
   "source": [
    "### Physical costants"
   ]
  },
  {
   "cell_type": "code",
   "execution_count": 2,
   "metadata": {},
   "outputs": [],
   "source": [
    "e=1.6e-19\n",
    "h=6.62e-34\n",
    "kB = 1.381e-23\n",
    "Phi0 = 2.067e-15\n",
    "Tc=1.14\n",
    "Delta = 1.76*Tc*kB"
   ]
  },
  {
   "cell_type": "markdown",
   "metadata": {},
   "source": [
    "### Inductance calculation\n",
    "The inductance $L_0$, critical current $I_0$ and the Josephson energy $E_j$ in the junction or SQUID are inferred by the normal resistance $R_n$:\n",
    "$$I_0=\\frac{\\pi\\Delta}{2 e R_n} \\qquad \\qquad E_j=\\frac{I_0\\Phi_0}{2\\pi}\\qquad \\qquad L_0=\\frac{\\Phi_0}{2\\pi I_0}$$"
   ]
  },
  {
   "cell_type": "code",
   "execution_count": 3,
   "metadata": {},
   "outputs": [
    {
     "name": "stdout",
     "output_type": "stream",
     "text": [
      "Critical current, I0= 41.22 nA\n",
      "Josephson energy, Ej=20.48 GHz\n",
      "Inductance, L0=7.98 nH\n"
     ]
    }
   ],
   "source": [
    "Rn=6.60e3\n",
    "I0 = np.pi*Delta/(2*e*Rn)\n",
    "Ej = I0*Phi0/(2*np.pi*h)\n",
    "L0= Phi0/(2*np.pi*I0)\n",
    "print(\"Critical current, I0= %.2f\" %(I0/1e-9), 'nA')\n",
    "print('Josephson energy, Ej=%.2f'%( Ej/1e9), 'GHz')\n",
    "print('Inductance, L0=%.2f' %(L0/1e-9), 'nH')"
   ]
  },
  {
   "cell_type": "markdown",
   "metadata": {},
   "source": [
    "### Capacitance Calculation\n",
    "For GaAs the IDT capacitance $C$ calculation for an overlap $w$ and $N_p$ finger pairs:\n",
    "$$C=c_s w N_p$$\n",
    "for single fingers (where $c_s$ is an experimental coefficient). For double fingers the value is multiplied by a factor $\\sqrt 2$. \n",
    "\n",
    "For the charging energy $E_c$ the simple calculation:\n",
    "$$E_c=\\frac{e^2}{2C}$$"
   ]
  },
  {
   "cell_type": "code",
   "execution_count": 6,
   "metadata": {},
   "outputs": [
    {
     "name": "stdout",
     "output_type": "stream",
     "text": [
      "IDT resonance, fIDT=4.04 GHz\n",
      "Finger capacitance, C=94.10 fF\n",
      "Charging energy, Ec=205.49 MHz\n"
     ]
    }
   ],
   "source": [
    "Np=21 #finger pairs\n",
    "waveLength=720e-9 #nm, the period of the IDT\n",
    "w=25e-6 #um, finger overllaping (usually tens of um)\n",
    "double=1 #1 means yes, double fingers, 0 means single fingers\n",
    "Cs=120e-12 #F/m, capacitance per meter\n",
    "K2=7e-4 #K square, piezoelectric coefficiecnt \n",
    "speed=2910 #m/s, the speed of SAW mode in GaAs at 10mK\n",
    "\n",
    "if double: \n",
    "    C=np.sqrt(2)*Cs*w*Np\n",
    "else:\n",
    "    C=Cs*w*Np\n",
    "    \n",
    "Cres=5e-15\n",
    "C=C+Cres\n",
    "    \n",
    "Ec=e**2/(2*C*h)\n",
    "fIDT=speed/waveLength    \n",
    "\n",
    "print('IDT resonance, fIDT=%.2f' %(fIDT/1e9), 'GHz')\n",
    "print('Finger capacitance, C=%.2f' %(C/1e-15), 'fF')\n",
    "print('Charging energy, Ec=%.2f' %(Ec/1e6), 'MHz')"
   ]
  },
  {
   "cell_type": "markdown",
   "metadata": {},
   "source": [
    "### Qubit parameters\n",
    "At zero flux (sweet spot) the qubit transition $f_{01}$ is:\n",
    "$$f_{01}=\\sqrt{8 E_c E_j}-E_c$$\n",
    "In this condition the coupling with the SAW waveguide is given by: \n",
    "$$\\frac{\\Gamma_{SAW}}{2\\pi}=0.5K^2N_pf_{IDT}$$"
   ]
  },
  {
   "cell_type": "code",
   "execution_count": 7,
   "metadata": {},
   "outputs": [
    {
     "name": "stdout",
     "output_type": "stream",
     "text": [
      "Qubit frequency, f01=5.60 GHz\n"
     ]
    }
   ],
   "source": [
    "f01=np.sqrt(8*Ec*Ej)-Ec\n",
    "Gamma_saw=0.5\n",
    "\n",
    "print('Qubit frequency, f01=%.2f' %(f01/1e9), 'GHz')"
   ]
  },
  {
   "cell_type": "code",
   "execution_count": null,
   "metadata": {},
   "outputs": [],
   "source": []
  }
 ],
 "metadata": {
  "kernelspec": {
   "display_name": "Python 3",
   "language": "python",
   "name": "python3"
  },
  "language_info": {
   "codemirror_mode": {
    "name": "ipython",
    "version": 3
   },
   "file_extension": ".py",
   "mimetype": "text/x-python",
   "name": "python",
   "nbconvert_exporter": "python",
   "pygments_lexer": "ipython3",
   "version": "3.7.0"
  }
 },
 "nbformat": 4,
 "nbformat_minor": 2
}
